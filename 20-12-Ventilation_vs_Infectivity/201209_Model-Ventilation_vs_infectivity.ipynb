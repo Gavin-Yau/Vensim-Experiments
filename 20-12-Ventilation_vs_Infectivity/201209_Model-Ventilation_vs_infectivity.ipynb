{
 "cells": [
  {
   "cell_type": "code",
   "execution_count": 1,
   "metadata": {
    "scrolled": true
   },
   "outputs": [
    {
     "name": "stdout",
     "output_type": "stream",
     "text": [
      "Collecting pysd\n",
      "  Using cached pysd-0.10.0-py2.py3-none-any.whl (45 kB)\n",
      "Collecting xlrd\n",
      "  Using cached xlrd-1.2.0-py2.py3-none-any.whl (103 kB)\n",
      "Collecting parsimonious\n",
      "  Using cached parsimonious-0.8.1.tar.gz (45 kB)\n",
      "Requirement already satisfied: xarray in c:\\users\\dasep\\appdata\\local\\continuum\\anaconda3\\envs\\tensorenviron\\lib\\site-packages (from pysd) (0.15.0)\n",
      "Collecting regex\n",
      "  Downloading regex-2020.11.13-cp37-cp37m-win_amd64.whl (269 kB)\n",
      "Requirement already satisfied: yapf in c:\\users\\dasep\\appdata\\local\\continuum\\anaconda3\\envs\\tensorenviron\\lib\\site-packages (from pysd) (0.29.0)\n",
      "Requirement already satisfied: numpy in c:\\users\\dasep\\appdata\\local\\continuum\\anaconda3\\envs\\tensorenviron\\lib\\site-packages (from pysd) (1.18.5)\n",
      "Collecting xlwt\n",
      "  Using cached xlwt-1.3.0-py2.py3-none-any.whl (99 kB)\n",
      "Collecting funcsigs\n",
      "  Using cached funcsigs-1.0.2-py2.py3-none-any.whl (17 kB)\n",
      "Requirement already satisfied: lxml in c:\\users\\dasep\\appdata\\local\\continuum\\anaconda3\\envs\\tensorenviron\\lib\\site-packages (from pysd) (4.5.0)\n",
      "Requirement already satisfied: chardet in c:\\users\\dasep\\appdata\\local\\continuum\\anaconda3\\envs\\tensorenviron\\lib\\site-packages (from pysd) (3.0.4)\n",
      "Collecting pydoe\n",
      "  Using cached pyDOE-0.3.8.zip (22 kB)\n",
      "Requirement already satisfied: pandas in c:\\users\\dasep\\appdata\\local\\continuum\\anaconda3\\envs\\tensorenviron\\lib\\site-packages (from pysd) (1.0.1)\n",
      "Requirement already satisfied: six>=1.9.0 in c:\\users\\dasep\\appdata\\local\\continuum\\anaconda3\\envs\\tensorenviron\\lib\\site-packages (from parsimonious->pysd) (1.15.0)\n",
      "Requirement already satisfied: scipy in c:\\users\\dasep\\appdata\\local\\continuum\\anaconda3\\envs\\tensorenviron\\lib\\site-packages (from pydoe->pysd) (1.4.1)\n",
      "Requirement already satisfied: python-dateutil>=2.6.1 in c:\\users\\dasep\\appdata\\local\\continuum\\anaconda3\\envs\\tensorenviron\\lib\\site-packages (from pandas->pysd) (2.8.1)\n",
      "Requirement already satisfied: pytz>=2017.2 in c:\\users\\dasep\\appdata\\local\\continuum\\anaconda3\\envs\\tensorenviron\\lib\\site-packages (from pandas->pysd) (2020.1)\n",
      "Building wheels for collected packages: parsimonious, pydoe\n",
      "  Building wheel for parsimonious (setup.py): started\n",
      "  Building wheel for parsimonious (setup.py): finished with status 'done'\n",
      "  Created wheel for parsimonious: filename=parsimonious-0.8.1-py3-none-any.whl size=42715 sha256=bf83c4d04a68fc115c9c71614b17e397b911fa1b0c9702d0bf367e21487bf59c\n",
      "  Stored in directory: c:\\users\\dasep\\appdata\\local\\pip\\cache\\wheels\\88\\5d\\ba\\f27d8af07306b65ee44f9d3f9cadea1db749a421a6db8a99bf\n",
      "  Building wheel for pydoe (setup.py): started\n",
      "  Building wheel for pydoe (setup.py): finished with status 'done'\n",
      "  Created wheel for pydoe: filename=pyDOE-0.3.8-py3-none-any.whl size=18181 sha256=e79681da08bfc532754e1d659c64e9e976ff9dc42ec04875aa03193f625a737b\n",
      "  Stored in directory: c:\\users\\dasep\\appdata\\local\\pip\\cache\\wheels\\83\\ce\\8a\\87b25c685bfeca1872d13b8dc101e087a9c6e3fb5ebb47022a\n",
      "Successfully built parsimonious pydoe\n",
      "Installing collected packages: xlrd, parsimonious, regex, xlwt, funcsigs, pydoe, pysd\n",
      "Successfully installed funcsigs-1.0.2 parsimonious-0.8.1 pydoe-0.3.8 pysd-0.10.0 regex-2020.11.13 xlrd-1.2.0 xlwt-1.3.0\n"
     ]
    }
   ],
   "source": [
    "!pip install pysd"
   ]
  },
  {
   "cell_type": "code",
   "execution_count": null,
   "metadata": {},
   "outputs": [],
   "source": [
    "model = pysd.read_vensim('201208')"
   ]
  }
 ],
 "metadata": {
  "kernelspec": {
   "display_name": "Python 3",
   "language": "python",
   "name": "python3"
  },
  "language_info": {
   "codemirror_mode": {
    "name": "ipython",
    "version": 3
   },
   "file_extension": ".py",
   "mimetype": "text/x-python",
   "name": "python",
   "nbconvert_exporter": "python",
   "pygments_lexer": "ipython3",
   "version": "3.7.6"
  }
 },
 "nbformat": 4,
 "nbformat_minor": 4
}
